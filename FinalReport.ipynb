{
 "cells": [
  {
   "cell_type": "markdown",
   "metadata": {
    "tags": []
   },
   "source": [
    "# The Relationship Between Tree Diameter and Growth Environment"
   ]
  },
  {
   "cell_type": "markdown",
   "metadata": {},
   "source": [
    "## Introduction"
   ]
  },
  {
   "cell_type": "markdown",
   "metadata": {
    "jp-MarkdownHeadingCollapsed": true,
    "tags": []
   },
   "source": [
    "This project involves using the diameter of a common tree species in Vancouver, compared between different streets.\n",
    "\n",
    "#### Background Information\n",
    "\n",
    "The diameter of a tree’s trunk reveals the growth of a tree and is closely relative to the surrounding environment. The growth of the trunk's diameter usually happens after the primary growth; where it's responsible for the height and the depth of its root (Cavallo-Medve, et al., 1971). In addition, Berlyn (2022) states that “Tree height is closely associated with the quality of the site on which the tree is growing (i.e., the climate, soil topography, and biota)\". As a result, we are interested in comparing the same kind of tree (Magnolia) on different streets, aiming to observe whether there exists a potential environmental influence on the trees.\n",
    "\n",
    "#### Our Inferential Research Question\n",
    "\n",
    "For our inferential research question, our group decided to focus on the following question: \"Do the Magnolia trees on Charles street differ in diameter from the diameters of the Magnolia trees on Churchill street? We plan on collecting data from the City of Vancouver Open Data Portal, where we're focusing on the variables of GENUS_NAME, DIAMETER, and STD_STREET. In addition, we plan on having  our population of interest be Magnolia trees on Charles St. and Churchill St (these are streets that some of our group members reside on). For our point estimate, we are doing the mean difference between Magnolia trees’ diameters on Charles St. and Churchill St. For our hypothesis, we have...\n",
    "\n",
    "Null hypothesis ($H_0$): there is no difference in the trees’ diameter when planting in different streets\n",
    "\n",
    "Alternate hypothesis ($H_a$): trees’ diameter will be affected when planting in different streets\n",
    "\n",
    "$H_0\\text{: }\\mu_1 = \\mu_2$\n",
    "\n",
    "$H_a\\text{: }\\mu_1 \\neq \\mu_2$\n"
   ]
  },
  {
   "cell_type": "markdown",
   "metadata": {},
   "source": [
    "## Preliminary Results"
   ]
  },
  {
   "cell_type": "code",
   "execution_count": null,
   "metadata": {
    "vscode": {
     "languageId": "r"
    }
   },
   "outputs": [],
   "source": [
    "library(tidyverse)\n",
    "library(cowplot)\n",
    "library(infer)\n",
    "library(repr)\n",
    "\n",
    "options(jupyter.plot_mimetypes = c(\"text/plain\", \"image/png\" ))"
   ]
  },
  {
   "cell_type": "markdown",
   "metadata": {},
   "source": [
    "The data is loaded from a URL stored in the `url` variable. We mirrored the dataset to our git repository for faster, easier access, organization, and reproducibility. The original is available at [this link](https://opendata.vancouver.ca/explore/dataset/street-trees/download/?format=csv&timezone=America/Los_Angeles&lang=en&use_labels_for_header=true&csv_separator=%3B)."
   ]
  },
  {
   "cell_type": "code",
   "execution_count": null,
   "metadata": {
    "vscode": {
     "languageId": "r"
    }
   },
   "outputs": [],
   "source": [
    "url <- \"https://github.com/armanmoztar/stat-201-group7/raw/main/data.csv\""
   ]
  },
  {
   "cell_type": "markdown",
   "metadata": {},
   "source": [
    "The data is read and filtered to include only the relevant columns and populations."
   ]
  },
  {
   "cell_type": "code",
   "execution_count": null,
   "metadata": {
    "vscode": {
     "languageId": "r"
    }
   },
   "outputs": [],
   "source": [
    "magnolia_trees <- read_delim(url, delim = \";\") |>\n",
    "    filter(GENUS_NAME == \"MAGNOLIA\") |>\n",
    "    select(street = STD_STREET, diameter = DIAMETER) |>\n",
    "    filter(street %in% c(\"CHARLES ST\", \"CHURCHILL ST\"))\n",
    "\n",
    "head(magnolia_trees)"
   ]
  },
  {
   "cell_type": "markdown",
   "metadata": {},
   "source": [
    "We estimate our population parameter from our sample and present it in a table for each street."
   ]
  },
  {
   "cell_type": "code",
   "execution_count": null,
   "metadata": {
    "vscode": {
     "languageId": "r"
    }
   },
   "outputs": [],
   "source": [
    "magnolia_tree_means <- magnolia_trees |>\n",
    "    group_by(street) |>\n",
    "    summarise(mean = mean(diameter))\n",
    "\n",
    "magnolia_tree_means"
   ]
  },
  {
   "cell_type": "markdown",
   "metadata": {},
   "source": [
    "The data is presented as two histograms comparing the diameter of the trees between the two streets, as well as the mean represented by the red line."
   ]
  },
  {
   "cell_type": "code",
   "execution_count": null,
   "metadata": {
    "vscode": {
     "languageId": "r"
    }
   },
   "outputs": [],
   "source": [
    "options(repr.plot.width = 20, repr.plot.height = 8)\n",
    "\n",
    "charles_st_trees_graph <- magnolia_trees |>\n",
    "    filter(street == \"CHARLES ST\") |>\n",
    "    ggplot(aes(x = diameter)) +\n",
    "    geom_histogram(bins = 50) +\n",
    "    geom_vline(xintercept = filter(magnolia_tree_means, street == \"CHARLES ST\")$mean, color = \"red\") +\n",
    "    xlim(0, 35) +\n",
    "    ylim(0, 80) +\n",
    "    ggtitle(\"Magnolia Trees on Charles St.\") +\n",
    "    labs(x = \"Diameter (inches)\", y = \"Count\")\n",
    "\n",
    "churchill_st_trees_graph <- magnolia_trees |>\n",
    "    filter(street == \"CHURCHILL ST\") |>\n",
    "    ggplot(aes(x = diameter)) +\n",
    "    geom_histogram(bins = 50) +\n",
    "    geom_vline(xintercept = filter(magnolia_tree_means, street == \"CHURCHILL ST\")$mean, color = \"red\") +\n",
    "    xlim(0, 35) +\n",
    "    ylim(0, 80) +\n",
    "    ggtitle(\"Magnolia Trees on Churchill St.\") +\n",
    "    labs(x = \"Diameter (inches)\", y = \"Count\")\n",
    "\n",
    "plot_grid(charles_st_trees_graph, churchill_st_trees_graph)\n",
    "\n",
    "options(repr.plot.width = 8, repr.plot.height = 8)\n",
    "\n",
    "box_plot <- magnolia_trees |>\n",
    "    ggplot(aes(x = street, y = diameter)) +\n",
    "    geom_boxplot() +\n",
    "    ggtitle(\"Magnolia Tree Diameters\") +\n",
    "    labs(x = \"Street\", y = \"Diameter (inches)\")\n",
    "\n",
    "box_plot"
   ]
  },
  {
   "cell_type": "code",
   "execution_count": null,
   "metadata": {
    "vscode": {
     "languageId": "r"
    }
   },
   "outputs": [],
   "source": [
    "obs_diff_means <- magnolia_trees |>\n",
    "    specify(formula = diameter ~ street) |>\n",
    "    calculate(stat = \"diff in means\", order = c(\"CHARLES ST\", \"CHURCHILL ST\"))"
   ]
  },
  {
   "cell_type": "code",
   "execution_count": null,
   "metadata": {
    "vscode": {
     "languageId": "r"
    }
   },
   "outputs": [],
   "source": [
    "null_diff_means <- magnolia_trees |>\n",
    "    specify(formula = diameter ~ street) |>\n",
    "    hypothesise(null = \"independence\") |>\n",
    "    generate(type = \"permute\", reps = 10000) |>\n",
    "    calculate(stat = \"diff in means\", order = c(\"CHARLES ST\", \"CHURCHILL ST\"))"
   ]
  },
  {
   "cell_type": "code",
   "execution_count": null,
   "metadata": {
    "vscode": {
     "languageId": "r"
    }
   },
   "outputs": [],
   "source": [
    "diff_means_graph <- null_diff_means |>\n",
    "    visualize() +\n",
    "    shade_p_value(obs_stat = obs_diff_means, direction = \"both\") +\n",
    "    ggtitle(\"Null Distribution with P-value\") +\n",
    "    xlab(\"Difference in Means\")\n",
    "\n",
    "diff_means_graph"
   ]
  },
  {
   "cell_type": "code",
   "execution_count": null,
   "metadata": {
    "vscode": {
     "languageId": "r"
    }
   },
   "outputs": [],
   "source": [
    "means_p_value <- null_diff_means |>\n",
    "    get_p_value(obs_stat = obs_diff_means, direction = \"both\") |>\n",
    "    pull()\n",
    "\n",
    "means_p_value"
   ]
  },
  {
   "cell_type": "code",
   "execution_count": null,
   "metadata": {
    "vscode": {
     "languageId": "r"
    }
   },
   "outputs": [],
   "source": [
    "bootstrap_diff_means <- magnolia_trees |>\n",
    "    specify(formula = diameter ~ street) |>\n",
    "    generate(type = \"bootstrap\", reps = 10000) |>\n",
    "    calculate(stat = \"diff in means\", order = c(\"CHARLES ST\", \"CHURCHILL ST\"))"
   ]
  },
  {
   "cell_type": "code",
   "execution_count": null,
   "metadata": {
    "vscode": {
     "languageId": "r"
    }
   },
   "outputs": [],
   "source": [
    "ci_diff_means <- bootstrap_diff_means |>\n",
    "    get_ci(level = 0.98, type = \"percentile\")\n",
    "\n",
    "ci_diff_means"
   ]
  },
  {
   "cell_type": "code",
   "execution_count": null,
   "metadata": {
    "vscode": {
     "languageId": "r"
    }
   },
   "outputs": [],
   "source": [
    "bootstrap_graph <- bootstrap_diff_means |>\n",
    "    visualise() +\n",
    "    shade_ci(endpoints = ci_diff_means) +\n",
    "    ggtitle(\"Bootstrap Distribution with 98% Confidence Interval\") +\n",
    "    xlab(\"Difference in Means\")\n",
    "\n",
    "bootstrap_graph"
   ]
  },
  {
   "cell_type": "markdown",
   "metadata": {},
   "source": [
    "## Methods: Plan"
   ]
  },
  {
   "cell_type": "markdown",
   "metadata": {},
   "source": [
    "#### Test both difference in means AND difference in medians, so that we have 2 location parameters\n",
    "\n",
    "This report can be used by city officials to determine if there are reasons that affect tree growth based on its diameter. From the data, we can see if there are ways to make tree growth more consistent (determining if there is enough care being taken to keep the environment green, etc...); however, our plot and estimates are not enough to give to stakeholders, as it's important that we must gather more data, perhaps comparing other streets in Vancouver or using different variables such as neighbourhoods.\n",
    "\n",
    "---\n",
    "We also plan on doing a 5% significance level (two-tailed hypothesis test), and by using the null hypothesis test to compare the diameter of the Magnolia trees growing on Charles street and Churchill street.\n",
    "\n",
    "#### Test Statistic\n",
    "\n",
    "$$\n",
    "\\begin{align*}\n",
    "\\text{Test Statistic} & = \\frac{\\overline{\\mu_1} - \\overline{\\mu_2}}{\\sqrt{\\frac{{s_1}^2}{n_1} + \\frac{{s_2}^2}{n_2}}}\n",
    "\\\\\n",
    "\\text{df} & = \\frac{(\\frac{{s_1}^2}{n_1} + \\frac{{s_2}^2}{n_2})^2}{\\frac{{s_1}^4}{{n_1}^2 (n_1 - 1)} + \\frac{{s_2}^4}{{n_2}^2 (n_2 - 1)}}\n",
    "\\end{align*}\n",
    "$$\n",
    "\n",
    "\n",
    "#### Expectations\n",
    "\n",
    "We expect to find differences between the two locations, since the distance between the two streets is over 10 km apart, and different streets may have different environments for the growth of the trees. In addition, there are many external factors such as weather (like heavy rain or dry conditions) that can cause different results.\n",
    "\n",
    "#### Potential Drawbacks\n",
    "\n",
    "#### Mention that trees may not have been planted at the same time, because it could influence results\n",
    "\n",
    "We are comparing the same kind of trees (Magnolia) in two different streets, thus, it can also be considered as a paired (dependent) two-sample t-test. However, because the individual trees' growth are independent of each other, we have decided to use the independent two-sample t-test here.\n",
    "\n",
    "#### Reproducible Analysis\n",
    "\n",
    "All the codes used in this research can be reproduced to study another kind of tree or other streets. In addition, the dataset offers other variables such as the neighbourhood name that can be used to perform other types of inferential analysis. For future questions, we can try to determine if drought and other conditions affect the growth of trees in Vancouver."
   ]
  },
  {
   "cell_type": "markdown",
   "metadata": {},
   "source": [
    "## References"
   ]
  },
  {
   "cell_type": "markdown",
   "metadata": {},
   "source": [
    "Cavallo-Medved, D., Fenton, M., Milson, B., Riskin, S., Wilson, K. (1971). Life Matters: Connecting Biology to Your World (1st ed., chapter 17). Tophatmonocle Corp.\n",
    "\n",
    "City of Vancouver (2022, November 3). Street trees. City of Vancouver, Vancouver Board of Parks and Recreation. https://opendata.vancouver.ca/explore/embed/dataset/street-trees/table/?disjunctive.species_name&disjunctive.common_name&disjunctive.on_street&disjunctive.neighbourhood_name&location=11,49.24765,-123.12046\n",
    "\n",
    "Everett, T. H., Berlyn, . Graeme Pierce and Weber, . Lillian M. (2022, September 21). tree. Encyclopedia Britannica. https://www.britannica.com/plant/tree"
   ]
  },
  {
   "cell_type": "code",
   "execution_count": null,
   "metadata": {},
   "outputs": [],
   "source": []
  }
 ],
 "metadata": {
  "kernelspec": {
   "display_name": "R",
   "language": "R",
   "name": "ir"
  },
  "language_info": {
   "codemirror_mode": "r",
   "file_extension": ".r",
   "mimetype": "text/x-r-source",
   "name": "R",
   "pygments_lexer": "r",
   "version": "4.1.3"
  }
 },
 "nbformat": 4,
 "nbformat_minor": 4
}
