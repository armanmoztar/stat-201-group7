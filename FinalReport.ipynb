{
 "cells": [
  {
   "cell_type": "markdown",
   "metadata": {
    "tags": []
   },
   "source": [
    "# The Relationship Between Tree Diameter and Growth Environment"
   ]
  },
  {
   "cell_type": "markdown",
   "metadata": {},
   "source": [
    "## Introduction"
   ]
  },
  {
   "cell_type": "markdown",
   "metadata": {
    "jp-MarkdownHeadingCollapsed": true,
    "tags": []
   },
   "source": [
    "This project involves using the diameter of a common tree species in Vancouver, used to compare different streets. These streets are where some of us as group members reside, so we were interested in determining what would be the diameter of this common tree species which is very populated here in Vancouver, BC.\n",
    "\n",
    "#### Background Information\n",
    "\n",
    "The diameter of a tree’s trunk reveals the growth of a tree and is closely relative to the surrounding environment. Trees need water, sunlight and carbon dioxide to produce nutrients for themselves so that they can use the chemical energy to grow in height and girth(diameter). The growth of the trunk's diameter usually happens after the primary growth; for a tree, primary growth is responsible for the height of the tree and the depth of its root (Cavallo-Medve, et al., 1971). After the primary growth or in the meanwhile, the secondary growth takes place. The secondary growth will develop in the width (diameter) of a tree’s trunk. In this research, we are comparing the same kind of tree (Magnolia) on different streets, aiming to observe whether there exists a potential environmental influence on the trees. According to Berlyn (2022), “Tree height is closely associated with the quality of the site on which the tree is growing (i.e., the climate, soil topography, and biota), radial growth is tied more to the weather conditions of the current year.\n",
    "\n",
    "#### Motivation\n",
    "\n",
    "This report can be used by city officials to determine if there are reasons that affect tree growth based on its diameter. From the data, we can see if there are ways to make tree growth more consistent (determining if there is enough care being taken to keep the environment green, etc...); however, our plot and estimates are not enough to give to stakeholders, as it's important that we must gather more data, perhaps comparing other streets in Vancouver or using different variables such as neighbourhoods.\n",
    "\n",
    "#### Our Inferential Research Question\n",
    "\n",
    "For our inferential research question, our group decided to focus on the following question: \"Do the Magnolia trees on Charles street differ in diameter from the diameters of the Magnolia trees on Churchill street? We plan on collecting data from the City of Vancouver Open Data Portal, where we're focusing on the variables of GENUS_NAME, DIAMETER, and STD_STREET. In addition, we plan on having  our population of interest be Magnolia trees on Charles St. and Churchill St (these are streets that some of our group members reside on). For our point estimate, we are doing the mean difference between Magnolia trees’ diameters on Charles St. and Churchill St. For our hypothesis, we have...\n",
    "\n",
    "Null hypothesis ($H_0$): there is no difference in the trees’ diameter when planting in different streets\n",
    "\n",
    "Alternate hypothesis ($H_a$): trees’ diameter will be affected when planting in different streets\n",
    "\n",
    "$H_0\\text{: }\\mu_1 = \\mu_2$\n",
    "\n",
    "$H_a\\text{: }\\mu_1 \\neq \\mu_2$\n"
   ]
  },
  {
   "cell_type": "markdown",
   "metadata": {},
   "source": [
    "## Testing"
   ]
  },
  {
   "cell_type": "code",
   "execution_count": null,
   "metadata": {
    "vscode": {
     "languageId": "r"
    }
   },
   "outputs": [],
   "source": [
    "library(tidyverse)\n",
    "library(cowplot)\n",
    "library(infer)\n",
    "library(repr)\n",
    "library(broom)\n",
    "\n",
    "options(jupyter.plot_mimetypes = c(\"text/plain\", \"image/png\" ))"
   ]
  },
  {
   "cell_type": "markdown",
   "metadata": {},
   "source": [
    "The data is loaded from a URL stored in the `url` variable. We mirrored the dataset to our git repository for faster, easier access, organization, and reproducibility. The original is available at [this link](https://opendata.vancouver.ca/explore/dataset/street-trees/download/?format=csv&timezone=America/Los_Angeles&lang=en&use_labels_for_header=true&csv_separator=%3B)."
   ]
  },
  {
   "cell_type": "code",
   "execution_count": null,
   "metadata": {
    "vscode": {
     "languageId": "r"
    }
   },
   "outputs": [],
   "source": [
    "url <- \"https://github.com/armanmoztar/stat-201-group7/raw/main/data.csv\""
   ]
  },
  {
   "cell_type": "markdown",
   "metadata": {},
   "source": [
    "The data is read and filtered to include only the relevant columns and populations."
   ]
  },
  {
   "cell_type": "code",
   "execution_count": null,
   "metadata": {
    "vscode": {
     "languageId": "r"
    }
   },
   "outputs": [],
   "source": [
    "magnolia_trees <- read_delim(url, delim = \";\") |>\n",
    "    filter(GENUS_NAME == \"MAGNOLIA\") |>\n",
    "    select(street = STD_STREET, diameter = DIAMETER) |>\n",
    "    filter(street %in% c(\"CHARLES ST\", \"CHURCHILL ST\"))\n",
    "\n",
    "head(magnolia_trees)"
   ]
  },
  {
   "cell_type": "markdown",
   "metadata": {},
   "source": [
    "We estimate our population parameter from our sample and present it in a table for each street."
   ]
  },
  {
   "cell_type": "code",
   "execution_count": null,
   "metadata": {
    "vscode": {
     "languageId": "r"
    }
   },
   "outputs": [],
   "source": [
    "magnolia_tree_means <- magnolia_trees |>\n",
    "    group_by(street) |>\n",
    "    summarise(mean = mean(diameter))\n",
    "\n",
    "magnolia_tree_means"
   ]
  },
  {
   "cell_type": "markdown",
   "metadata": {},
   "source": [
    "The data is presented as a histogram for both streets, with a red line indicating the mean of each, as well as a boxplot."
   ]
  },
  {
   "cell_type": "code",
   "execution_count": null,
   "metadata": {
    "vscode": {
     "languageId": "r"
    }
   },
   "outputs": [],
   "source": [
    "options(repr.plot.width = 20, repr.plot.height = 8)\n",
    "\n",
    "charles_st_trees_graph <- magnolia_trees |>\n",
    "    filter(street == \"CHARLES ST\") |>\n",
    "    ggplot(aes(x = diameter)) +\n",
    "    geom_histogram(bins = 50) +\n",
    "    geom_vline(xintercept = filter(magnolia_tree_means, street == \"CHARLES ST\")$mean, color = \"red\") +\n",
    "    xlim(0, 35) +\n",
    "    ylim(0, 80) +\n",
    "    ggtitle(\"Magnolia Trees on Charles St.\") +\n",
    "    labs(x = \"Diameter (inches)\", y = \"Count\")\n",
    "\n",
    "churchill_st_trees_graph <- magnolia_trees |>\n",
    "    filter(street == \"CHURCHILL ST\") |>\n",
    "    ggplot(aes(x = diameter)) +\n",
    "    geom_histogram(bins = 50) +\n",
    "    geom_vline(xintercept = filter(magnolia_tree_means, street == \"CHURCHILL ST\")$mean, color = \"red\") +\n",
    "    xlim(0, 35) +\n",
    "    ylim(0, 80) +\n",
    "    ggtitle(\"Magnolia Trees on Churchill St.\") +\n",
    "    labs(x = \"Diameter (inches)\", y = \"Count\")\n",
    "\n",
    "plot_grid(charles_st_trees_graph, churchill_st_trees_graph)\n",
    "\n",
    "options(repr.plot.width = 8, repr.plot.height = 8)\n",
    "\n",
    "box_plot <- magnolia_trees |>\n",
    "    ggplot(aes(x = street, y = diameter)) +\n",
    "    geom_boxplot() +\n",
    "    ggtitle(\"Magnolia Tree Diameters\") +\n",
    "    labs(x = \"Street\", y = \"Diameter (inches)\")\n",
    "\n",
    "box_plot"
   ]
  },
  {
   "cell_type": "markdown",
   "metadata": {},
   "source": [
    "To begin our analysis, we first calculate the observed difference in means from our sample."
   ]
  },
  {
   "cell_type": "code",
   "execution_count": null,
   "metadata": {
    "vscode": {
     "languageId": "r"
    }
   },
   "outputs": [],
   "source": [
    "obs_diff_means <- magnolia_trees |>\n",
    "    specify(formula = diameter ~ street) |>\n",
    "    calculate(stat = \"diff in means\", order = c(\"CHARLES ST\", \"CHURCHILL ST\"))\n",
    "\n",
    "pull(obs_diff_means)"
   ]
  },
  {
   "cell_type": "markdown",
   "metadata": {},
   "source": [
    "Next, we create a null model using 10,000 repetitions. This model is a standard normal distribution centered around a difference in means of 0."
   ]
  },
  {
   "cell_type": "code",
   "execution_count": null,
   "metadata": {
    "vscode": {
     "languageId": "r"
    }
   },
   "outputs": [],
   "source": [
    "null_diff_means <- magnolia_trees |>\n",
    "    specify(formula = diameter ~ street) |>\n",
    "    hypothesise(null = \"independence\") |>\n",
    "    generate(type = \"permute\", reps = 10000) |>\n",
    "    calculate(stat = \"diff in means\", order = c(\"CHARLES ST\", \"CHURCHILL ST\"))"
   ]
  },
  {
   "cell_type": "markdown",
   "metadata": {},
   "source": [
    "Here, the null model is graphed with a red line representing the p-value. The likelihood of the true mean occuring under the null model would be demonstrated by a shaded red area, however there is no overlap in our test. Since the observed difference in means has no overlap at all with the null model, we can already infer that the p-value is less than the significance level, and the null hypothesis will be rejected."
   ]
  },
  {
   "cell_type": "code",
   "execution_count": null,
   "metadata": {
    "vscode": {
     "languageId": "r"
    }
   },
   "outputs": [],
   "source": [
    "diff_means_graph <- null_diff_means |>\n",
    "    visualize() +\n",
    "    shade_p_value(obs_stat = obs_diff_means, direction = \"both\") +\n",
    "    ggtitle(\"Null Distribution with P-value\") +\n",
    "    xlab(\"Difference in Means\")\n",
    "\n",
    "diff_means_graph"
   ]
  },
  {
   "cell_type": "markdown",
   "metadata": {},
   "source": [
    "Taking the p-value from our simulated null model, we find it to equal 0 and therefore reject the null hypothesis that the difference in means is 0."
   ]
  },
  {
   "cell_type": "code",
   "execution_count": null,
   "metadata": {
    "vscode": {
     "languageId": "r"
    }
   },
   "outputs": [],
   "source": [
    "p_value_diff_means <- null_diff_means |>\n",
    "    get_p_value(obs_stat = obs_diff_means, direction = \"both\")\n",
    "\n",
    "pull(p_value_diff_means)"
   ]
  },
  {
   "cell_type": "markdown",
   "metadata": {},
   "source": [
    "To further confirm our data, we will determine a 95% confidence interval through bootstrapping. Here we use bootstrapping on the difference in means with 10,000 repetitions."
   ]
  },
  {
   "cell_type": "code",
   "execution_count": null,
   "metadata": {
    "vscode": {
     "languageId": "r"
    }
   },
   "outputs": [],
   "source": [
    "bootstrap_diff_means <- magnolia_trees |>\n",
    "    specify(formula = diameter ~ street) |>\n",
    "    generate(type = \"bootstrap\", reps = 10000) |>\n",
    "    calculate(stat = \"diff in means\", order = c(\"CHARLES ST\", \"CHURCHILL ST\"))"
   ]
  },
  {
   "cell_type": "markdown",
   "metadata": {},
   "source": [
    "Taking a 95% confidence interval from the boostrap distribution, the lower and upper values of the interval are as follows."
   ]
  },
  {
   "cell_type": "code",
   "execution_count": null,
   "metadata": {
    "vscode": {
     "languageId": "r"
    }
   },
   "outputs": [],
   "source": [
    "ci_diff_means <- bootstrap_diff_means |>\n",
    "    get_ci(level = 0.95, type = \"percentile\")\n",
    "\n",
    "ci_diff_means"
   ]
  },
  {
   "cell_type": "markdown",
   "metadata": {},
   "source": [
    "Finally, we graph the bootstrap distribution of the difference in means as well as the confidence interval. From this graph, we can infer that since the confidence interval does not contain a difference in means of 0, we are 95% confident the true difference in means cannot be 0."
   ]
  },
  {
   "cell_type": "code",
   "execution_count": null,
   "metadata": {
    "vscode": {
     "languageId": "r"
    }
   },
   "outputs": [],
   "source": [
    "bootstrap_graph <- bootstrap_diff_means |>\n",
    "    visualise() +\n",
    "    shade_ci(endpoints = ci_diff_means) +\n",
    "    ggtitle(\"Bootstrap Distribution with 98% Confidence Interval\") +\n",
    "    xlab(\"Difference in Means\")\n",
    "\n",
    "bootstrap_graph"
   ]
  },
  {
   "cell_type": "markdown",
   "metadata": {},
   "source": [
    "To confirm our previous findings, we conduct a two-sample t-test as confirmation. This test reports a p-value < 0.05, and a similar confidence interval to the one generated by the bootstrap distribution."
   ]
  },
  {
   "cell_type": "code",
   "execution_count": null,
   "metadata": {
    "vscode": {
     "languageId": "r"
    }
   },
   "outputs": [],
   "source": [
    "t.test(formula = diameter ~ street,\n",
    "       data = magnolia_trees,\n",
    "       alternative = \"two.sided\") |>\n",
    "    tidy()"
   ]
  },
  {
   "cell_type": "markdown",
   "metadata": {},
   "source": [
    "## Results"
   ]
  },
  {
   "cell_type": "markdown",
   "metadata": {},
   "source": [
    "In this project, we use two methods to discover whether there is a difference in tree diameters between two streets. The first method is both a simulation based and theory based hypothesis test to determine if the sample means of the two groups are the same. To perform the hypothesis test, we filter our sample into two groups, one of Magnolia trees on Charles St., and one of the same on Churchill St. These two populations are independent, even though the trees are the same species.\n",
    "\n",
    "First, we will graph a boxplot to get an idea of the shape of our data. Here, we can immediate see that the two samples have different means. We compute the means of the two populations and can see a difference of $12.338710 - 3.744792 = 8.593918$. At least in our sample, the two streets have completely different means and show that Charles St. has many thick trees compared to thinner trees on Churchill St. In summary, this initial step indicates that the diameters of Magnolia trees on Charles St. differ from those planted on Churchill St. However, the above steps only provide us with an estimate applicable to only our sample. To answer our research question, \"Do the Magnolia trees on Charles St. differ in diameter from the Magnolia trees on Churchill St.?”, we need to conduct a hypothesis test.\n",
    "\n",
    "This is an independant two-sample hypothesis test. We will go about testing the hypothesis using both a simulation and a t-test. The t-test is applicable here as the entire population of trees should follow a normal distribution, and each of our samples have size greater than 30.\n",
    "\n",
    "- **Null Hypothesis** ($H_0$): The mean diameter of Magnolia trees is the same on Charles St. and Churchill St.\n",
    "- **Alternate Hypothesis** ($H_a$) — The mean diameter of Magnolia trees is different between Charles St. and Churchill St.\n",
    "\n",
    "$$\n",
    "H_0\\text{: } \\mu_1 = \\mu_2\\\\\n",
    "H_a\\text{: } \\mu_1 \\neq \\mu_2\n",
    "$$\n",
    "\n",
    "With the following variables:\n",
    "- $\\mu_1$ — Mean of Magnolia tree diameters on Charles St.\n",
    "- $\\mu_2$ — Mean of Magnolia tree diameters on Churchill St.\n",
    "\n",
    "\n",
    "Using the following test statistic,\n",
    "\n",
    "$$\n",
    "\\frac{\\overline{\\mu_1} - \\overline{\\mu_2}}{\\sqrt{\\frac{{s_1}^2}{n_1} + \\frac{{s_2}^2}{n_2}}}\n",
    "$$\n",
    "\n",
    "the data will follow a t-distribution approximately modeled by the following formula if $H_0$ is true:\n",
    "\n",
    "$$\n",
    "\\frac{(\\frac{{s_1}^2}{n_1} + \\frac{{s_2}^2}{n_2})^2}{\\frac{{s_1}^4}{{n_1}^2 (n_1 - 1)} + \\frac{{s_2}^4}{{n_2}^2 (n_2 - 1)}}\n",
    "$$\n",
    "\n",
    "\n",
    "Then, we can calculate the p-value for this hypothesis test. Here, we use the t.test() to produce a p-value. Since the p-value is less than 0.05, we can conclude that by a 5% significance level, we are willing to reject the null hypothesis and conclude that there is a difference in the trees’ diameter when planted on different streets.\n",
    "\n",
    "Moreover, we construct a bootstrap sampling distribution to estimate the differences in the means of trees’ diameter between two streets (x1-x2). Through using bootstrap with 10,000 replicates, we obtain a 95% confidence interval: from 7.155102 into 10.08364 in. This result demonstrates that we are 95% confident that the true (population) mean differences in trees’ diameter between two streets will be somewhere between 7.155102 in and 10.08364 in. More importantly, this interval does not include 0, which implies that the differences in the means between two streets will not equal zero. "
   ]
  },
  {
   "cell_type": "markdown",
   "metadata": {},
   "source": [
    "## Discussion"
   ]
  },
  {
   "cell_type": "markdown",
   "metadata": {},
   "source": [
    "According to the above results, we can conclude that the trees’ diameter will be affected when planting in different streets ($H_a$). We think the hypothesis test is more appropriate than the bootstrapping since bootstrapping is not as robust as the t-distribution under the CLT assumption. Furthermore, the conditions for using bootstrapping are less strict than the hypothesis test (t-test); thus, the hypothesis test is more trustworthy than the bootstrap method.  However, bootstrapping is useful to provide a rough overview of the sampling distribution and convincing support for the hypothesis test. In conclusion, the results of the two methods meet our expectations: the Magnolia trees on Charles Street differ in diameter from the diameters of the Magnolia trees on Churchill Street. Therefore, it can lead to a future research question to find out the possible factors related to this difference. For example, the environment that the two streets possess, the number of years since these trees have been planted and so on.\n",
    "\n",
    "#### Reproducible Analysis\n",
    "\n",
    "All the codes used in this research can be reproduced to study another kind of tree or other streets. In addition, the dataset offers other variables such as the neighbourhood name that can be used to perform other types of inferential analysis. For future questions, we can try to determine if drought and other conditions affect the growth of trees in Vancouver."
   ]
  },
  {
   "cell_type": "markdown",
   "metadata": {},
   "source": [
    "## References"
   ]
  },
  {
   "cell_type": "markdown",
   "metadata": {},
   "source": [
    "Cavallo-Medved, D., Fenton, M., Milson, B., Riskin, S., Wilson, K. (1971). Life Matters: Connecting Biology to Your World (1st ed., chapter 17). Tophatmonocle Corp.\n",
    "\n",
    "City of Vancouver (2022, November 3). Street trees. City of Vancouver, Vancouver Board of Parks and Recreation. https://opendata.vancouver.ca/explore/embed/dataset/street-trees/table/?disjunctive.species_name&disjunctive.common_name&disjunctive.on_street&disjunctive.neighbourhood_name&location=11,49.24765,-123.12046\n",
    "\n",
    "Everett, T. H., Berlyn, . Graeme Pierce and Weber, . Lillian M. (2022, September 21). tree. Encyclopedia Britannica. https://www.britannica.com/plant/tree"
   ]
  }
 ],
 "metadata": {
  "kernelspec": {
   "display_name": "R",
   "language": "R",
   "name": "ir"
  },
  "language_info": {
   "codemirror_mode": "r",
   "file_extension": ".r",
   "mimetype": "text/x-r-source",
   "name": "R",
   "pygments_lexer": "r",
   "version": "4.2.2"
  }
 },
 "nbformat": 4,
 "nbformat_minor": 4
}
