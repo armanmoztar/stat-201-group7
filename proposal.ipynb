{
 "cells": [
  {
   "cell_type": "markdown",
   "metadata": {},
   "source": [
    "# The Relationship Between Tree Diameter and Growth Environment"
   ]
  },
  {
   "cell_type": "markdown",
   "metadata": {},
   "source": [
    "## Introduction"
   ]
  },
  {
   "cell_type": "markdown",
   "metadata": {},
   "source": [
    "This project involves using the diameter of a common tree species in Vancouver, compared between different streets. These streets are of interest because some of our group members reside on them, so we were interested in determining what would be the diameter of this common tree species that is very populated here in Vancouver, British Columbia.\n",
    "\n",
    "### Background information\n",
    "\n",
    "The diameter of a tree’s trunk reveals the growth of a tree and is closely relative to the surrounding environment. Trees need water, sunlight and carbon dioxide to produce nutrients for themselves so that they can use the chemical energy to grow in height and girth(diameter). The growth of the trunk's diameter usually happens after the primary growth; for a tree, primary growth is responsible for the height of a tree and the depth of its root (Cavallo-Medve, et al., 1971). After the primary growth or at the meanwhile, the secondary growth takes place. The secondary growth will develop in the width (diameter) of a tree’s trunk. In this research, we are comparing the same kind of tree (Magnolia) on different streets, aiming to observe whether there exists a potential environmental influence on the trees. According to Berlyn (2022), “Tree height is closely associated with the quality of the site on which the tree is growing (i.e., the climate, soil topography, and biota), radial growth is tied more to the weather conditions of the current year. \n",
    "\n",
    "### What is your (inferential) research question?\n",
    "\n",
    "Do the Magnolia trees on Charles street differ in diameter from the diameters of the Magnolia trees on Churchill street?\n",
    " \n",
    "### What is your population of interest?\n",
    "\n",
    "Magnolia trees on Charles St. and Churchill St.\n",
    "\n",
    "### How do you collect your data?\n",
    "\n",
    "City of Vancouver Open Data Portal\n",
    "\n",
    "### What is your point estimate? (e.g., mean difference between male and female income, proportions of Democrats voters, etc.)\n",
    "\n",
    "Mean difference between Magnolia trees’ diameters on Charles St. and Churchill St.\n",
    "\n",
    "### Hypothesis\n",
    "\n",
    "Null hypothesis ($H_0$): there is no difference for the trees’ diameter when planting in different streets\n",
    "\n",
    "Alternate hypothesis ($H_a$): trees’ diameter will be affected when planting in different streets\n",
    "\n",
    "$H_0\\text{: }\\mu_1 = \\mu_2$\n",
    "\n",
    "$H_a\\text{: }\\mu_1 \\neq \\mu_2$\n"
   ]
  },
  {
   "cell_type": "markdown",
   "metadata": {},
   "source": [
    "## Preliminary Results"
   ]
  },
  {
   "cell_type": "code",
   "execution_count": 21,
   "metadata": {
    "vscode": {
     "languageId": "r"
    }
   },
   "outputs": [],
   "source": [
    "library(tidyverse)\n",
    "library(cowplot)\n",
    "library(infer)"
   ]
  },
  {
   "cell_type": "markdown",
   "metadata": {},
   "source": [
    "The data is loaded from a URL stored in the `url` variable. We mirrored the dataset to our git repository for faster, easier access, organization, and reproducibility. The original is available at [this link](https://opendata.vancouver.ca/explore/dataset/street-trees/download/?format=csv&timezone=America/Los_Angeles&lang=en&use_labels_for_header=true&csv_separator=%3B)."
   ]
  },
  {
   "cell_type": "code",
   "execution_count": 22,
   "metadata": {
    "vscode": {
     "languageId": "r"
    }
   },
   "outputs": [],
   "source": [
    "url <- \"https://github.com/armanmoztar/stat-201-group7/raw/main/data.csv\""
   ]
  },
  {
   "cell_type": "markdown",
   "metadata": {},
   "source": [
    "The data is read and filtered to include only the relevant columns and populations."
   ]
  },
  {
   "cell_type": "code",
   "execution_count": 23,
   "metadata": {
    "vscode": {
     "languageId": "r"
    }
   },
   "outputs": [
    {
     "name": "stderr",
     "output_type": "stream",
     "text": [
      "\u001b[1mRows: \u001b[22m\u001b[34m149937\u001b[39m \u001b[1mColumns: \u001b[22m\u001b[34m19\u001b[39m\n",
      "\u001b[36m──\u001b[39m \u001b[1mColumn specification\u001b[22m \u001b[36m────────────────────────────────────────────────────────\u001b[39m\n",
      "\u001b[1mDelimiter:\u001b[22m \";\"\n",
      "\u001b[31mchr\u001b[39m  (13): STD_STREET, GENUS_NAME, SPECIES_NAME, CULTIVAR_NAME, COMMON_NAME,...\n",
      "\u001b[32mdbl\u001b[39m   (5): TREE_ID, CIVIC_NUMBER, ON_STREET_BLOCK, HEIGHT_RANGE_ID, DIAMETER\n",
      "\u001b[34mdate\u001b[39m  (1): DATE_PLANTED\n",
      "\n",
      "\u001b[36mℹ\u001b[39m Use `spec()` to retrieve the full column specification for this data.\n",
      "\u001b[36mℹ\u001b[39m Specify the column types or set `show_col_types = FALSE` to quiet this message.\n"
     ]
    },
    {
     "data": {
      "text/html": [
       "<table class=\"dataframe\">\n",
       "<caption>A tibble: 6 × 2</caption>\n",
       "<thead>\n",
       "\t<tr><th scope=col>street</th><th scope=col>diameter</th></tr>\n",
       "\t<tr><th scope=col>&lt;chr&gt;</th><th scope=col>&lt;dbl&gt;</th></tr>\n",
       "</thead>\n",
       "<tbody>\n",
       "\t<tr><td>CHURCHILL ST</td><td>3</td></tr>\n",
       "\t<tr><td>CHURCHILL ST</td><td>3</td></tr>\n",
       "\t<tr><td>CHURCHILL ST</td><td>3</td></tr>\n",
       "\t<tr><td>CHURCHILL ST</td><td>3</td></tr>\n",
       "\t<tr><td>CHURCHILL ST</td><td>3</td></tr>\n",
       "\t<tr><td>CHURCHILL ST</td><td>2</td></tr>\n",
       "</tbody>\n",
       "</table>\n"
      ],
      "text/latex": [
       "A tibble: 6 × 2\n",
       "\\begin{tabular}{ll}\n",
       " street & diameter\\\\\n",
       " <chr> & <dbl>\\\\\n",
       "\\hline\n",
       "\t CHURCHILL ST & 3\\\\\n",
       "\t CHURCHILL ST & 3\\\\\n",
       "\t CHURCHILL ST & 3\\\\\n",
       "\t CHURCHILL ST & 3\\\\\n",
       "\t CHURCHILL ST & 3\\\\\n",
       "\t CHURCHILL ST & 2\\\\\n",
       "\\end{tabular}\n"
      ],
      "text/markdown": [
       "\n",
       "A tibble: 6 × 2\n",
       "\n",
       "| street &lt;chr&gt; | diameter &lt;dbl&gt; |\n",
       "|---|---|\n",
       "| CHURCHILL ST | 3 |\n",
       "| CHURCHILL ST | 3 |\n",
       "| CHURCHILL ST | 3 |\n",
       "| CHURCHILL ST | 3 |\n",
       "| CHURCHILL ST | 3 |\n",
       "| CHURCHILL ST | 2 |\n",
       "\n"
      ],
      "text/plain": [
       "  street       diameter\n",
       "1 CHURCHILL ST 3       \n",
       "2 CHURCHILL ST 3       \n",
       "3 CHURCHILL ST 3       \n",
       "4 CHURCHILL ST 3       \n",
       "5 CHURCHILL ST 3       \n",
       "6 CHURCHILL ST 2       "
      ]
     },
     "metadata": {},
     "output_type": "display_data"
    }
   ],
   "source": [
    "magnolia_trees <- read_delim(url, delim = \";\") |>\n",
    "    filter(GENUS_NAME == \"MAGNOLIA\") |>\n",
    "    select(street = STD_STREET, diameter = DIAMETER) |>\n",
    "    filter(street %in% c(\"CHARLES ST\", \"CHURCHILL ST\"))\n",
    "\n",
    "head(magnolia_trees)"
   ]
  },
  {
   "cell_type": "markdown",
   "metadata": {},
   "source": [
    "We estimate our population parameter from our sample and present it in a table for each street."
   ]
  },
  {
   "cell_type": "code",
   "execution_count": 24,
   "metadata": {
    "vscode": {
     "languageId": "r"
    }
   },
   "outputs": [
    {
     "data": {
      "text/html": [
       "<table class=\"dataframe\">\n",
       "<caption>A tibble: 2 × 2</caption>\n",
       "<thead>\n",
       "\t<tr><th scope=col>street</th><th scope=col>mean</th></tr>\n",
       "\t<tr><th scope=col>&lt;chr&gt;</th><th scope=col>&lt;dbl&gt;</th></tr>\n",
       "</thead>\n",
       "<tbody>\n",
       "\t<tr><td>CHARLES ST  </td><td>12.338710</td></tr>\n",
       "\t<tr><td>CHURCHILL ST</td><td> 3.744792</td></tr>\n",
       "</tbody>\n",
       "</table>\n"
      ],
      "text/latex": [
       "A tibble: 2 × 2\n",
       "\\begin{tabular}{ll}\n",
       " street & mean\\\\\n",
       " <chr> & <dbl>\\\\\n",
       "\\hline\n",
       "\t CHARLES ST   & 12.338710\\\\\n",
       "\t CHURCHILL ST &  3.744792\\\\\n",
       "\\end{tabular}\n"
      ],
      "text/markdown": [
       "\n",
       "A tibble: 2 × 2\n",
       "\n",
       "| street &lt;chr&gt; | mean &lt;dbl&gt; |\n",
       "|---|---|\n",
       "| CHARLES ST   | 12.338710 |\n",
       "| CHURCHILL ST |  3.744792 |\n",
       "\n"
      ],
      "text/plain": [
       "  street       mean     \n",
       "1 CHARLES ST   12.338710\n",
       "2 CHURCHILL ST  3.744792"
      ]
     },
     "metadata": {},
     "output_type": "display_data"
    }
   ],
   "source": [
    "magnolia_tree_means <- magnolia_trees |>\n",
    "    group_by(street) |>\n",
    "    summarise(mean = mean(diameter))\n",
    "\n",
    "magnolia_tree_means"
   ]
  },
  {
   "cell_type": "markdown",
   "metadata": {},
   "source": [
    "The data is presented as two histograms comparing the diameter of the trees between the two streets, as well as the mean represented by the red line."
   ]
  },
  {
   "cell_type": "code",
   "execution_count": 25,
   "metadata": {
    "vscode": {
     "languageId": "r"
    }
   },
   "outputs": [
    {
     "name": "stderr",
     "output_type": "stream",
     "text": [
      "Warning message:\n",
      "“\u001b[1m\u001b[22mRemoved 2 rows containing missing values (`geom_bar()`).”\n",
      "Warning message:\n",
      "“\u001b[1m\u001b[22mRemoved 2 rows containing missing values (`geom_bar()`).”\n"
     ]
    },
    {
     "data": {
      "image/png": "[encoded data removed]",
      "text/plain": [
       "plot without title"
      ]
     },
     "metadata": {
      "image/png": {
       "height": 420,
       "width": 420
      }
     },
     "output_type": "display_data"
    }
   ],
   "source": [
    "charles_st_trees_graph <- magnolia_trees |>\n",
    "    filter(street == \"CHARLES ST\") |>\n",
    "    ggplot(aes(x = diameter)) +\n",
    "    geom_histogram(bins = 50) +\n",
    "    geom_vline(xintercept = filter(magnolia_tree_means, street == \"CHARLES ST\")$mean, color = \"red\") +\n",
    "    xlim(0, 35) +\n",
    "    ylim(0, 80) +\n",
    "    ggtitle(\"Magnolia Trees on Charles St.\") +\n",
    "    labs(x = \"Diameter (inches)\", y = \"Count\")\n",
    "\n",
    "churchill_st_trees_graph <- magnolia_trees |>\n",
    "    filter(street == \"CHURCHILL ST\") |>\n",
    "    ggplot(aes(x = diameter)) +\n",
    "    geom_histogram(bins = 50) +\n",
    "    geom_vline(xintercept = filter(magnolia_tree_means, street == \"CHURCHILL ST\")$mean, color = \"red\") +\n",
    "    xlim(0, 35) +\n",
    "    ylim(0, 80) +\n",
    "    ggtitle(\"Magnolia Trees on Churchill St.\") +\n",
    "    labs(x = \"Diameter (inches)\", y = \"Count\")\n",
    "\n",
    "plot_grid(charles_st_trees_graph, churchill_st_trees_graph)"
   ]
  },
  {
   "cell_type": "markdown",
   "metadata": {},
   "source": [
    "## Methods (plan)"
   ]
  },
  {
   "cell_type": "markdown",
   "metadata": {},
   "source": [
    "Point of estimate: the sample means of the Magnolia trees’ diameters on Charles street(1) and Churchill Street(2)\n",
    "\n",
    "Two-sample t-test with independent populations\n",
    "\n",
    "### Test statistic\n",
    "\n",
    "$$\n",
    "\\begin{align*}\n",
    "\\text{Test Statistic} & = \\frac{\\overline{\\mu_1} - \\overline{\\mu_2}}{\\sqrt{\\frac{{s_1}^2}{n_1} + \\frac{{s_2}^2}{n_2}}}\n",
    "\\\\\n",
    "\\text{df} & = \\frac{(\\frac{{s_1}^2}{n_1} + \\frac{{s_2}^2}{n_2})^2}{\\frac{{s_1}^4}{{n_1}^2 (n_1 - 1)} + \\frac{{s_2}^4}{{n_2}^2 (n_2 - 1)}}\n",
    "\\end{align*}\n",
    "$$\n",
    "\n",
    "### Significance level\n",
    "\n",
    "5% significance level, two-tailed hypothesis test\n",
    "\n",
    "Use null hypothesis test to compare the diameter of the Magnolia trees growing on Charles street and Churchill street\n",
    "\n",
    "### Expectations\n",
    "\n",
    "Expect to find differences between two locations, since the distance between the two streets are over 10 km apart, and different streets may have different environments for the growth of the trees.\n",
    "\n",
    "### Potential drawbacks\n",
    "\n",
    "We are comparing the same kind of trees (Magnolia) in two different streets, it can also be considered as a paired (dependent) two-sample t-test. However, because the individual trees' growth are independent from each other, we decide to use the independent two-sample t-test here.\n",
    "\n",
    "### Reproducible analysis\n",
    "\n",
    "All the codes used in this research can be reproduced to study another kind of tree or use a different set of streets."
   ]
  },
  {
   "cell_type": "markdown",
   "metadata": {},
   "source": [
    "## References"
   ]
  },
  {
   "cell_type": "markdown",
   "metadata": {},
   "source": [
    "Everett, T. H., Berlyn, . Graeme Pierce and Weber, . Lillian M. (2022, September 21). tree. Encyclopedia Britannica. https://www.britannica.com/plant/tree\n",
    "\n",
    "Cavallo-Medved, D., Fenton, M., Milson, B., Riskin, S., Wilson, K. (1971). Life Matters: Connecting Biology to Your World (1st ed., chapter 17). Tophatmonocle Corp.\n",
    "\n",
    "City of Vancouver (2022, November 3). Street trees. City of Vancouver, Vancouver Board of Parks and Recreation. https://opendata.vancouver.ca/explore/embed/dataset/street-trees/table/?disjunctive.species_name&disjunctive.common_name&disjunctive.on_street&disjunctive.neighbourhood_name&location=11,49.24765,-123.12046"
   ]
  }
 ],
 "metadata": {
  "kernelspec": {
   "display_name": "R",
   "language": "R",
   "name": "ir"
  },
  "language_info": {
   "codemirror_mode": "r",
   "file_extension": ".r",
   "mimetype": "text/x-r-source",
   "name": "R",
   "pygments_lexer": "r",
   "version": "4.2.2"
  },
  "orig_nbformat": 4
 },
 "nbformat": 4,
 "nbformat_minor": 2
}
